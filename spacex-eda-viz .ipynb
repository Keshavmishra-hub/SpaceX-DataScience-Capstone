{
  "metadata": {
    "kernelspec": {
      "name": "python",
      "display_name": "Python (Pyodide)",
      "language": "python"
    },
    "language_info": {
      "codemirror_mode": {
        "name": "python",
        "version": 3
      },
      "file_extension": ".py",
      "mimetype": "text/x-python",
      "name": "python",
      "nbconvert_exporter": "python",
      "pygments_lexer": "ipython3",
      "version": "3.8"
    },
    "prev_pub_hash": "0c470061d7abae1632b4f11c1561e6cfda5dface0e860d070afade5beb8bfaed"
  },
  "nbformat_minor": 4,
  "nbformat": 4,
  "cells": [
    {
      "cell_type": "markdown",
      "source": "# **SpaceX  Falcon 9 First Stage Landing Prediction**\n",
      "metadata": {}
    },
    {
      "cell_type": "markdown",
      "source": "## Exploring and Preparing Data\n",
      "metadata": {}
    },
    {
      "cell_type": "markdown",
      "source": "## Objectives\n\nPerform exploratory Data Analysis and Feature Engineering using `Pandas` and `Matplotlib`\n\n*   Exploratory Data Analysis\n*   Preparing Data  Feature Engineering\n",
      "metadata": {}
    },
    {
      "cell_type": "markdown",
      "source": "### Importing Libraries and Define Auxiliary Functions\n",
      "metadata": {}
    },
    {
      "cell_type": "markdown",
      "source": "We will import the following libraries the lab\n",
      "metadata": {}
    },
    {
      "cell_type": "code",
      "source": "import piplite\nawait piplite.install(['numpy'])\nawait piplite.install(['pandas'])\nawait piplite.install(['seaborn'])",
      "metadata": {
        "trusted": true
      },
      "outputs": [],
      "execution_count": 1
    },
    {
      "cell_type": "code",
      "source": "# pandas is a software library written for the Python programming language for data manipulation and analysis.\nimport pandas as pd\n#NumPy is a library for the Python programming language, adding support for large, multi-dimensional arrays and matrices, along with a large collection of high-level mathematical functions to operate on these arrays\nimport numpy as np\n# Matplotlib is a plotting library for python and pyplot gives us a MatLab like plotting framework. We will use this in our plotter function to plot data.\nimport matplotlib.pyplot as plt\n#Seaborn is a Python data visualization library based on matplotlib. It provides a high-level interface for drawing attractive and informative statistical graphics\nimport seaborn as sns",
      "metadata": {
        "trusted": true
      },
      "outputs": [],
      "execution_count": null
    },
    {
      "cell_type": "markdown",
      "source": "## Exploratory Data Analysis\n",
      "metadata": {}
    },
    {
      "cell_type": "markdown",
      "source": "First, let's read the SpaceX dataset into a Pandas dataframe and print its summary\n",
      "metadata": {}
    },
    {
      "cell_type": "code",
      "source": "from js import fetch\nimport io\n\nURL = \"https://cf-courses-data.s3.us.cloud-object-storage.appdomain.cloud/IBM-DS0321EN-SkillsNetwork/datasets/dataset_part_2.csv\"\nresp = await fetch(URL)\ndataset_part_2_csv = io.BytesIO((await resp.arrayBuffer()).to_py())\ndf=pd.read_csv(dataset_part_2_csv)\ndf.head(5)",
      "metadata": {
        "trusted": true
      },
      "outputs": [],
      "execution_count": null
    },
    {
      "cell_type": "code",
      "source": "df.tail(5)",
      "metadata": {
        "trusted": true
      },
      "outputs": [],
      "execution_count": null
    },
    {
      "cell_type": "markdown",
      "source": "First, let's try to see how the `FlightNumber` (indicating the continuous launch attempts.) and `Payload` variables would affect the launch outcome.\n\nWe can plot out the <code>FlightNumber</code> vs. <code>PayloadMass</code>and overlay the outcome of the launch. 'Class=1' means Successful and 'Class=0' means Failure\n",
      "metadata": {}
    },
    {
      "cell_type": "code",
      "source": "sns.catplot(y=\"PayloadMass\", x=\"FlightNumber\", hue=\"Class\", data=df, aspect = 5)\nplt.xlabel(\"Flight Number\",fontsize=20)\nplt.ylabel(\"Pay load Mass (kg)\",fontsize=20)\nplt.show()",
      "metadata": {
        "trusted": true,
        "scrolled": true
      },
      "outputs": [],
      "execution_count": null
    },
    {
      "cell_type": "markdown",
      "source": "We see that as the flight number increases, the first stage is more likely to land successfully. The payload mass also appears to be a factor; even with more massive payloads, the first stage often returns successfully.",
      "metadata": {}
    },
    {
      "cell_type": "markdown",
      "source": "Next, let's drill down to each site visualize its detailed launch records.\n",
      "metadata": {}
    },
    {
      "cell_type": "markdown",
      "source": "### Visualizing the relationship between Flight Number and Launch Site\n",
      "metadata": {}
    },
    {
      "cell_type": "markdown",
      "source": "We have use the function <code>catplot</code> to plot <code>FlightNumber</code> vs <code>LaunchSite</code>, set the <code>x</code>  parameter to <code>FlightNumber</code>,set the  <code>y</code> to <code>Launch Site</code> and set the parameter <code>hue</code> to <code>'class'</code>\n",
      "metadata": {}
    },
    {
      "cell_type": "code",
      "source": "# Plot a scatter point chart with x axis to be Flight Number and y axis to be the launch site, and hue to be the class value\nsns.catplot(\n    x=\"FlightNumber\",       # X-axis: Flight Number\n    y=\"LaunchSite\",         # Y-axis: Launch Site\n    hue=\"Class\",            # Color (hue) based on class (Success/Failure)\n    data=df,                # Your DataFrame\n    kind=\"strip\",           # or \"swarm\", \"point\", \"box\", etc.\n    height=6,\n    aspect=2\n)\n\nplt.title(\"Flight Number vs Launch Site grouped by Class\")\nplt.show()\n",
      "metadata": {
        "trusted": true
      },
      "outputs": [],
      "execution_count": null
    },
    {
      "cell_type": "markdown",
      "source": "As flight numbers increase, the success rate (Class 1) improves, especially at **CCAFS SLC 40**, indicating growing reliability over time. **KSC LC 39A** shows high success even with fewer launches, while **VAFB SLC 4E** has limited but mostly successful launches. \n",
      "metadata": {}
    },
    {
      "cell_type": "markdown",
      "source": "### Visualising the relationship between Payload Mass and Launch Site\n",
      "metadata": {}
    },
    {
      "cell_type": "markdown",
      "source": "We also want to observe if there is any relationship between launch sites and their payload mass.\n",
      "metadata": {}
    },
    {
      "cell_type": "code",
      "source": "# Plot a scatter point chart with x axis to be Pay Load Mass (kg) and y axis to be the launch site, and hue to be the class value\nplt.figure(figsize=(10,6))\nsns.scatterplot(\n    x=\"PayloadMass\",      # X-axis: Payload Mass\n    y=\"LaunchSite\",             # Y-axis: Launch Site\n    hue=\"Class\",                # Color by success/failure class\n    data=df\n)\n\nplt.title(\"Payload Mass vs Launch Site\")\nplt.xlabel(\"Payload Mass (kg)\")\nplt.ylabel(\"Launch Site\")\nplt.show()",
      "metadata": {
        "trusted": true
      },
      "outputs": [],
      "execution_count": null
    },
    {
      "cell_type": "markdown",
      "source": "Now if you observe Payload Mass Vs. Launch Site scatter point chart you will find for the VAFB-SLC  launchsite there are no  rockets  launched for  heavypayload mass(greater than 10000).\n",
      "metadata": {}
    },
    {
      "cell_type": "markdown",
      "source": "### Visualising the relationship between success rate of each orbit type\n",
      "metadata": {}
    },
    {
      "cell_type": "markdown",
      "source": "Next, we want to visually check if there are any relationship between success rate and orbit type.\n",
      "metadata": {}
    },
    {
      "cell_type": "markdown",
      "source": "Let's create a `bar chart` for the sucess rate of each orbit\n",
      "metadata": {}
    },
    {
      "cell_type": "code",
      "source": "# HINT use groupby method on Orbit column and get the mean of Class column\norbit_success = df.groupby('Orbit')['Class'].mean().sort_values(ascending=False).reset_index()\nplt.figure(figsize=(12, 6))\nsns.barplot(x='Orbit', y='Class', data=orbit_success, palette='viridis')\n\nplt.title('Success Rate by Orbit Type')\nplt.xlabel('Orbit Type')\nplt.ylabel('Success Rate')\nplt.xticks(rotation=45)\nplt.ylim(0, 1)  # Since success rate is between 0 and 1\nplt.grid(True, linestyle='--', alpha=0.6)\n\nplt.show()",
      "metadata": {
        "trusted": true
      },
      "outputs": [],
      "execution_count": null
    },
    {
      "cell_type": "markdown",
      "source": "We can interpret that 'Orbit = ES-L1, GEO, HEO, SSO' has 100% Success Rate.\n",
      "metadata": {}
    },
    {
      "cell_type": "markdown",
      "source": "### Visualising the relationship between FlightNumber and Orbit type\n",
      "metadata": {}
    },
    {
      "cell_type": "markdown",
      "source": "For each orbit, we want to see if there is any relationship between FlightNumber and Orbit type.\n",
      "metadata": {}
    },
    {
      "cell_type": "code",
      "source": "# Plot a scatter point chart with x axis to be FlightNumber and y axis to be the Orbit, and hue to be the class value\nplt.figure(figsize=(12, 6))\nsns.scatterplot(\n    x='FlightNumber',        # X-axis: Flight Number\n    y='Orbit',               # Y-axis: Orbit type\n    hue='Class',             # Hue: success (1) or failure (0)\n    data=df,\n)\n\nplt.title('Flight Number vs Orbit Type (Colored by Class)')\nplt.xlabel('Flight Number')\nplt.ylabel('Orbit Type')\nplt.grid(True, linestyle='--', alpha=0.5)\nplt.legend(title='Launch Success (class)')\nplt.show()\n",
      "metadata": {
        "trusted": true
      },
      "outputs": [],
      "execution_count": null
    },
    {
      "cell_type": "markdown",
      "source": "You can observe that in the LEO orbit, success seems to be related to the number of flights. Conversely, in the GTO orbit, there appears to be no relationship between flight number and success.\n",
      "metadata": {}
    },
    {
      "cell_type": "markdown",
      "source": "### Visualising the relationship between Payload Mass and Orbit type\n",
      "metadata": {}
    },
    {
      "cell_type": "markdown",
      "source": "Similarly, we can plot the Payload Mass vs. Orbit scatter point charts to reveal the relationship between Payload Mass and Orbit type\n",
      "metadata": {}
    },
    {
      "cell_type": "code",
      "source": "# Plot a scatter point chart with x axis to be Payload Mass and y axis to be the Orbit, and hue to be the class value\nplt.figure(figsize=(12, 6))\nsns.scatterplot(\n    x='PayloadMass',     # X-axis: Payload Mass (in kg)\n    y='Orbit',                 # Y-axis: Orbit type\n    hue='Class',               # Color by success/failure\n    data=df,\n)\n\nplt.title('Payload Mass vs Orbit Type (Colored by Launch Class)')\nplt.xlabel('Payload Mass (kg)')\nplt.ylabel('Orbit Type')\nplt.grid(True, linestyle='--', alpha=0.5)\nplt.legend(title='Launch Success (class)')\nplt.show()\n",
      "metadata": {
        "trusted": true
      },
      "outputs": [],
      "execution_count": null
    },
    {
      "cell_type": "markdown",
      "source": "With heavy payloads the successful landing or positive landing rate are more for Polar,LEO and ISS.\n\nHowever, for GTO, it's difficult to distinguish between successful and unsuccessful landings as both outcomes are present.\n",
      "metadata": {}
    },
    {
      "cell_type": "markdown",
      "source": "### Visualising the launch success yearly trend\n",
      "metadata": {}
    },
    {
      "cell_type": "markdown",
      "source": "We plot a line chart with x axis to be <code>Year</code> and y axis to be average success rate, to get the average launch success trend.\n",
      "metadata": {}
    },
    {
      "cell_type": "markdown",
      "source": "The function will help you get the year from the date:\n",
      "metadata": {}
    },
    {
      "cell_type": "code",
      "source": "# A function to Extract years from the date \nyear=[]\ndef Extract_year():\n    for i in df[\"Date\"]:\n        year.append(i.split(\"-\")[0])\n    return year\nExtract_year()\ndf['Date'] = year\ndf.head()\n    ",
      "metadata": {
        "trusted": true,
        "scrolled": true
      },
      "outputs": [],
      "execution_count": null
    },
    {
      "cell_type": "code",
      "source": "# Plot a line chart with x axis to be the extracted year and y axis to be the success rate\nyearly_success = df.groupby('Date')['Class'].mean().reset_index()\nplt.figure(figsize=(10, 5))\nsns.lineplot(x='Date', y='Class', data=yearly_success, marker='o')\n\nplt.title('Yearly Launch Success Rate')\nplt.xlabel('Year')\nplt.ylabel('Average Success Rate')\nplt.ylim(0, 1)\nplt.grid(True, linestyle='--', alpha=0.6)\nplt.show()\n",
      "metadata": {
        "trusted": true
      },
      "outputs": [],
      "execution_count": null
    },
    {
      "cell_type": "markdown",
      "source": "you can observe that the sucess rate since 2013 kept increasing till 2020\n",
      "metadata": {}
    },
    {
      "cell_type": "markdown",
      "source": "## Features Engineering\n",
      "metadata": {}
    },
    {
      "cell_type": "markdown",
      "source": "We will select the features that will be used in success prediction in the future module.\n",
      "metadata": {}
    },
    {
      "cell_type": "code",
      "source": "features = df[['FlightNumber', 'PayloadMass', 'Orbit', 'LaunchSite', 'Flights', 'GridFins', 'Reused', 'Legs', 'LandingPad', 'Block', 'ReusedCount', 'Serial']]\nfeatures.head()",
      "metadata": {
        "trusted": true
      },
      "outputs": [],
      "execution_count": null
    },
    {
      "cell_type": "markdown",
      "source": "### Creating dummy variables to categorical columns\n",
      "metadata": {}
    },
    {
      "cell_type": "markdown",
      "source": "Use the function <code>get_dummies</code> and <code>features</code> dataframe to apply OneHotEncoder to the column <code>Orbits</code>, <code>LaunchSite</code>, <code>LandingPad</code>, and <code>Serial</code>. Assigning the value to the variable <code>features_one_hot</code>, we display the results using the method head. Our result dataframe must include all features including the encoded ones.\n",
      "metadata": {}
    },
    {
      "cell_type": "code",
      "source": "#'features' is our original dataframe and it's already defined\nfeatures_one_hot = pd.get_dummies(features, columns=['Orbit', 'LaunchSite', 'LandingPad', 'Serial'])\n\n# Display the first few rows of the one-hot encoded dataframe\nfeatures_one_hot.head()",
      "metadata": {
        "trusted": true
      },
      "outputs": [],
      "execution_count": null
    },
    {
      "cell_type": "markdown",
      "source": "### Casting all numeric columns to `float64`\n",
      "metadata": {}
    },
    {
      "cell_type": "markdown",
      "source": "Now that our <code>features_one_hot</code> dataframe only contains numbers, cast the entire dataframe to variable type <code>float64</code>\n",
      "metadata": {}
    },
    {
      "cell_type": "code",
      "source": "# Cast the entire DataFrame to float64\nfeatures_one_hot = features_one_hot.astype('float64')\n\nfeatures_one_hot\n",
      "metadata": {
        "trusted": true
      },
      "outputs": [],
      "execution_count": null
    },
    {
      "cell_type": "code",
      "source": "# Export to CSV\nfeatures_one_hot.to_csv('dataset_part_3.csv', index=False)\n",
      "metadata": {
        "trusted": true
      },
      "outputs": [],
      "execution_count": null
    }
  ]
}